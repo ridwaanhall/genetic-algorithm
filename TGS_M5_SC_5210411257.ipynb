{
 "cells": [
  {
   "cell_type": "code",
   "execution_count": 86,
   "metadata": {},
   "outputs": [],
   "source": [
    "import random\n",
    "from typing import List, Tuple"
   ]
  },
  {
   "cell_type": "code",
   "execution_count": 87,
   "metadata": {},
   "outputs": [],
   "source": [
    "class Mahasiswa:\n",
    "    def __init__(self, nama: str, nilai_cerdas: int, nilai_tangkas: int):\n",
    "        self.nama = nama\n",
    "        self.nilai_cerdas = nilai_cerdas\n",
    "        self.nilai_tangkas = nilai_tangkas\n",
    "\n",
    "class GeneticAlgorithm:\n",
    "    def __init__(self, mahasiswa: List[Mahasiswa], population_size: int, generations: int, mutation_rate: float):\n",
    "        self.mahasiswa = mahasiswa\n",
    "        self.population_size = population_size\n",
    "        self.generations = generations\n",
    "        self.mutation_rate = mutation_rate\n",
    "        self.population = self.initialize_population()\n",
    "\n",
    "    def fitness_function(self, chromosome: List[int]) -> int:\n",
    "        if len(set(chromosome)) != len(chromosome):\n",
    "            return 0\n",
    "\n",
    "        a, b, c = chromosome[:3]\n",
    "        x, y, z = chromosome[3:]\n",
    "\n",
    "        team_cerdas = self.mahasiswa[a].nilai_cerdas * self.mahasiswa[b].nilai_cerdas * self.mahasiswa[c].nilai_cerdas\n",
    "        team_tangkas = self.mahasiswa[x].nilai_tangkas * self.mahasiswa[y].nilai_tangkas * self.mahasiswa[z].nilai_tangkas\n",
    "\n",
    "        return team_cerdas + team_tangkas\n",
    "\n",
    "    def initialize_population(self) -> List[List[int]]:\n",
    "        population = []\n",
    "        for _ in range(self.population_size):\n",
    "            chromosome = random.sample(range(len(self.mahasiswa)), 6)\n",
    "            population.append(chromosome)\n",
    "        return population\n",
    "\n",
    "    def roulette_wheel_selection(self, fitness_values: List[int]) -> List[int]:\n",
    "        total_fitness = sum(fitness_values)\n",
    "        pick = random.uniform(0, total_fitness)\n",
    "        current = 0\n",
    "        for i, fitness in enumerate(fitness_values):\n",
    "            current += fitness\n",
    "            if current > pick:\n",
    "                return self.population[i]\n",
    "\n",
    "    def one_point_crossover(self, parent1: List[int], parent2: List[int]) -> Tuple[List[int], List[int]]:\n",
    "        crossover_point = random.randint(1, 5)\n",
    "        child1 = parent1[:crossover_point] + parent2[crossover_point:]\n",
    "        child2 = parent2[:crossover_point] + parent1[crossover_point:]\n",
    "\n",
    "        # Ensure no duplicates in children\n",
    "        if len(set(child1)) != len(child1):\n",
    "            child1 = parent1\n",
    "        if len(set(child2)) != len(child2):\n",
    "            child2 = parent2\n",
    "\n",
    "        return child1, child2\n",
    "\n",
    "    def swap_mutation(self, chromosome: List[int]) -> List[int]:\n",
    "        if random.random() < self.mutation_rate:\n",
    "            idx1, idx2 = random.sample(range(6), 2)\n",
    "            chromosome[idx1], chromosome[idx2] = chromosome[idx2], chromosome[idx1]\n",
    "        return chromosome\n",
    "\n",
    "    def run(self) -> Tuple[List[int], int]:\n",
    "        for generation in range(self.generations):\n",
    "            fitness_values = [self.fitness_function(ind) for ind in self.population]\n",
    "\n",
    "            best_fitness = max(fitness_values)\n",
    "            best_individual = self.population[fitness_values.index(best_fitness)]\n",
    "            print(f\"Generasi {generation}: Fitness Terbaik = {best_fitness}\")\n",
    "\n",
    "            new_population = []\n",
    "            for _ in range(self.population_size // 2):\n",
    "                parent1 = self.roulette_wheel_selection(fitness_values)\n",
    "                parent2 = self.roulette_wheel_selection(fitness_values)\n",
    "\n",
    "                child1, child2 = self.one_point_crossover(parent1, parent2)\n",
    "\n",
    "                child1 = self.swap_mutation(child1)\n",
    "                child2 = self.swap_mutation(child2)\n",
    "\n",
    "                new_population.extend([child1, child2])\n",
    "\n",
    "            self.population = new_population\n",
    "\n",
    "        fitness_values = [self.fitness_function(ind) for ind in self.population]\n",
    "        best_fitness = max(fitness_values)\n",
    "        best_individual = self.population[fitness_values.index(best_fitness)]\n",
    "\n",
    "        return best_individual, best_fitness\n",
    "\n",
    "    def explain_gen_design(self):\n",
    "        return \"Gen terdiri dari 6 angka yang masing-masing merepresentasikan indeks mahasiswa dalam daftar mahasiswa. \" \\\n",
    "               \"\\nTiga angka pertama adalah tim cerdas, dan tiga angka terakhir adalah tim tangkas.\"\n",
    "\n",
    "    def explain_fitness_calculation(self, chromosome: List[int]):\n",
    "        fitness = self.fitness_function(chromosome)\n",
    "        return f\"Fitness dihitung dengan mengalikan nilai cerdas dari tiga mahasiswa pertama dan nilai tangkas dari tiga mahasiswa terakhir. \" \\\n",
    "               f\"\\nContoh perhitungan untuk kromosom {chromosome}: Fitness = {fitness}\"\n",
    "\n",
    "    def explain_selection_technique(self):\n",
    "        example_fitness_values = [self.fitness_function(ind) for ind in self.population]\n",
    "        selected_individual = self.roulette_wheel_selection(example_fitness_values)\n",
    "        return \"Teknik seleksi yang digunakan adalah roulette wheel selection. \" \\\n",
    "            \"\\nSetiap individu dipilih berdasarkan probabilitas yang sebanding dengan nilai fitnessnya. \" \\\n",
    "            f\"\\nContoh hasil seleksi: individu dengan kromosom {selected_individual} dipilih dari populasi.\"\n",
    "\n",
    "    def explain_crossover_technique(self, parent1: List[int], parent2: List[int]):\n",
    "        child1, child2 = self.one_point_crossover(parent1, parent2)\n",
    "        return f\"Teknik crossover yang digunakan adalah one-point crossover. \" \\\n",
    "               f\"\\nContoh hasil crossover untuk parent1 {parent1} dan parent2 {parent2}: child1 = {child1}, child2 = {child2}\"\n",
    "\n",
    "    def explain_mutation_technique(self, chromosome: List[int]):\n",
    "        mutated_chromosome = self.swap_mutation(chromosome)\n",
    "        return f\"Teknik mutasi yang digunakan adalah swap mutation. \" \\\n",
    "               f\"\\nContoh hasil mutasi untuk kromosom {chromosome}: mutated_chromosome = {mutated_chromosome}\"\n",
    "\n",
    "    def explain_best_individual(self, best_individual: List[int], generation: int):\n",
    "        tim_cerdas = best_individual[:3]\n",
    "        tim_tangkas = best_individual[3:]\n",
    "        return f\"Kromosom terbaik adalah {best_individual} yang ditemukan pada generasi ke-{generation}. \" \\\n",
    "               f\"\\nTim Kecerdasan: {', '.join(self.mahasiswa[i].nama for i in tim_cerdas)}, \" \\\n",
    "               f\"\\nTim Ketangkasan: {', '.join(self.mahasiswa[i].nama for i in tim_tangkas)}\""
   ]
  },
  {
   "cell_type": "code",
   "execution_count": 88,
   "metadata": {},
   "outputs": [],
   "source": [
    "mahasiswa = [\n",
    "    Mahasiswa(\"Arya\", 11, 60),\n",
    "    Mahasiswa(\"Alana\", 70, 32),\n",
    "    Mahasiswa(\"Zayn\", 101, 101),\n",
    "    Mahasiswa(\"Kaelan\", 99, 103),\n",
    "    Mahasiswa(\"Ziva\", 103, 10),\n",
    "    Mahasiswa(\"Mikael\", 16, 100),\n",
    "    Mahasiswa(\"Nayla\", 20, 64),\n",
    "    Mahasiswa(\"Freya\", 54, 85),\n",
    "    Mahasiswa(\"Naufal\", 100, 3),\n",
    "    Mahasiswa(\"Damar\", 40, 23),\n",
    "    Mahasiswa(\"Kiara\", 74, 19),\n",
    "]"
   ]
  },
  {
   "cell_type": "code",
   "execution_count": 89,
   "metadata": {},
   "outputs": [],
   "source": [
    "POPULATION_SIZE = 100\n",
    "GENERATIONS     = 10\n",
    "MUTATION_RATE   = 0.1"
   ]
  },
  {
   "cell_type": "code",
   "execution_count": 90,
   "metadata": {},
   "outputs": [
    {
     "name": "stdout",
     "output_type": "stream",
     "text": [
      "Generasi 0: Fitness Terbaik = 1380200\n",
      "Generasi 1: Fitness Terbaik = 1600620\n",
      "Generasi 2: Fitness Terbaik = 1761300\n",
      "Generasi 3: Fitness Terbaik = 1761300\n",
      "Generasi 4: Fitness Terbaik = 1761300\n",
      "Generasi 5: Fitness Terbaik = 1878200\n",
      "Generasi 6: Fitness Terbaik = 1802500\n",
      "Generasi 7: Fitness Terbaik = 1878200\n",
      "Generasi 8: Fitness Terbaik = 1802500\n",
      "Generasi 9: Fitness Terbaik = 1878200\n"
     ]
    }
   ],
   "source": [
    "ga = GeneticAlgorithm(mahasiswa, POPULATION_SIZE, GENERATIONS, MUTATION_RATE)\n",
    "best_individual, best_fitness = ga.run()"
   ]
  },
  {
   "cell_type": "code",
   "execution_count": 91,
   "metadata": {},
   "outputs": [
    {
     "name": "stdout",
     "output_type": "stream",
     "text": [
      "Tim Kecerdasan: Ziva, Naufal, Kaelan\n",
      "Tim Ketangkasan: Mikael, Zayn, Freya\n",
      "Fitness Terbaik: 1878200\n"
     ]
    }
   ],
   "source": [
    "tim_cerdas = best_individual[:3]\n",
    "tim_tangkas = best_individual[3:]\n",
    "print(f\"Tim Kecerdasan: {', '.join(mahasiswa[i].nama for i in tim_cerdas)}\")\n",
    "print(f\"Tim Ketangkasan: {', '.join(mahasiswa[i].nama for i in tim_tangkas)}\")\n",
    "print(f\"Fitness Terbaik: {best_fitness}\")"
   ]
  }
 ],
 "metadata": {
  "kernelspec": {
   "display_name": ".venv",
   "language": "python",
   "name": "python3"
  },
  "language_info": {
   "codemirror_mode": {
    "name": "ipython",
    "version": 3
   },
   "file_extension": ".py",
   "mimetype": "text/x-python",
   "name": "python",
   "nbconvert_exporter": "python",
   "pygments_lexer": "ipython3",
   "version": "3.12.1"
  }
 },
 "nbformat": 4,
 "nbformat_minor": 2
}
